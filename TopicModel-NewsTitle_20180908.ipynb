{
 "cells": [
  {
   "cell_type": "markdown",
   "metadata": {
    "toc": "true"
   },
   "source": [
    "# Table of Contents\n",
    " <p><div class=\"lev1 toc-item\"><a href=\"#Data-Read\" data-toc-modified-id=\"Data-Read-1\"><span class=\"toc-item-num\">1&nbsp;&nbsp;</span>Data Read</a></div><div class=\"lev1 toc-item\"><a href=\"#Data-Pre-processing\" data-toc-modified-id=\"Data-Pre-processing-2\"><span class=\"toc-item-num\">2&nbsp;&nbsp;</span>Data Pre-processing</a></div><div class=\"lev2 toc-item\"><a href=\"#Function\" data-toc-modified-id=\"Function-21\"><span class=\"toc-item-num\">2.1&nbsp;&nbsp;</span>Function</a></div><div class=\"lev2 toc-item\"><a href=\"#Pre-process-for-headline-text\" data-toc-modified-id=\"Pre-process-for-headline-text-22\"><span class=\"toc-item-num\">2.2&nbsp;&nbsp;</span>Pre-process for headline text</a></div><div class=\"lev2 toc-item\"><a href=\"#Bag-of-Words-on-the-Data-set\" data-toc-modified-id=\"Bag-of-Words-on-the-Data-set-23\"><span class=\"toc-item-num\">2.3&nbsp;&nbsp;</span>Bag of Words on the Data set</a></div><div class=\"lev2 toc-item\"><a href=\"#Filter-out\" data-toc-modified-id=\"Filter-out-24\"><span class=\"toc-item-num\">2.4&nbsp;&nbsp;</span>Filter out</a></div><div class=\"lev2 toc-item\"><a href=\"#Gensim-doc2bow\" data-toc-modified-id=\"Gensim-doc2bow-25\"><span class=\"toc-item-num\">2.5&nbsp;&nbsp;</span>Gensim doc2bow</a></div><div class=\"lev2 toc-item\"><a href=\"#TF-IDF\" data-toc-modified-id=\"TF-IDF-26\"><span class=\"toc-item-num\">2.6&nbsp;&nbsp;</span>TF-IDF</a></div><div class=\"lev1 toc-item\"><a href=\"#Prediction\" data-toc-modified-id=\"Prediction-3\"><span class=\"toc-item-num\">3&nbsp;&nbsp;</span>Prediction</a></div><div class=\"lev2 toc-item\"><a href=\"#Running-LDA-using-Bag-of-Words\" data-toc-modified-id=\"Running-LDA-using-Bag-of-Words-31\"><span class=\"toc-item-num\">3.1&nbsp;&nbsp;</span>Running LDA using Bag of Words</a></div><div class=\"lev2 toc-item\"><a href=\"#Running-LDA-using-TF-IDF\" data-toc-modified-id=\"Running-LDA-using-TF-IDF-32\"><span class=\"toc-item-num\">3.2&nbsp;&nbsp;</span>Running LDA using TF-IDF</a></div><div class=\"lev1 toc-item\"><a href=\"#Performance-evaluation-by-classifying-sample-document\" data-toc-modified-id=\"Performance-evaluation-by-classifying-sample-document-4\"><span class=\"toc-item-num\">4&nbsp;&nbsp;</span>Performance evaluation by classifying sample document</a></div><div class=\"lev2 toc-item\"><a href=\"#using-LDA-Bag-of-Words-model\" data-toc-modified-id=\"using-LDA-Bag-of-Words-model-41\"><span class=\"toc-item-num\">4.1&nbsp;&nbsp;</span>using LDA Bag of Words model</a></div><div class=\"lev2 toc-item\"><a href=\"#using-LDA-TF-IDF-model.\" data-toc-modified-id=\"using-LDA-TF-IDF-model.-42\"><span class=\"toc-item-num\">4.2&nbsp;&nbsp;</span>using LDA TF-IDF model.</a></div><div class=\"lev2 toc-item\"><a href=\"#Testing-model-on-unseen-document\" data-toc-modified-id=\"Testing-model-on-unseen-document-43\"><span class=\"toc-item-num\">4.3&nbsp;&nbsp;</span>Testing model on unseen document</a></div>"
   ]
  },
  {
   "cell_type": "markdown",
   "metadata": {},
   "source": [
    "Topic modeling is a type of statistical modeling for discovering the abstract “topics” that occur in a collection of documents. <br>\n",
    "Latent Dirichlet Allocation (LDA) is an example of topic model and is used to classify text in a document to a particular topic. <br>\n",
    "It builds a topic per document model and words per topic model, modeled as Dirichlet distributions.<br>\n",
    "https://towardsdatascience.com/topic-modeling-and-latent-dirichlet-allocation-in-python-9bf156893c24"
   ]
  },
  {
   "cell_type": "code",
   "execution_count": 3,
   "metadata": {
    "ExecuteTime": {
     "end_time": "2018-09-08T09:42:49.386226Z",
     "start_time": "2018-09-08T09:42:49.380490Z"
    }
   },
   "outputs": [],
   "source": [
    "import pandas as pd\n",
    "import os \n",
    "\n"
   ]
  },
  {
   "cell_type": "code",
   "execution_count": 5,
   "metadata": {
    "ExecuteTime": {
     "end_time": "2018-09-08T09:44:55.044674Z",
     "start_time": "2018-09-08T09:44:55.037230Z"
    }
   },
   "outputs": [
    {
     "data": {
      "text/plain": [
       "['.DS_Store',\n",
       " 'Untitled.ipynb',\n",
       " 'abcnews-date-text.csv',\n",
       " 'million-headlines.zip',\n",
       " '.ipynb_checkpoints',\n",
       " '.git']"
      ]
     },
     "execution_count": 5,
     "metadata": {},
     "output_type": "execute_result"
    }
   ],
   "source": [
    "os.listdir()"
   ]
  },
  {
   "cell_type": "markdown",
   "metadata": {},
   "source": [
    "# Data Read"
   ]
  },
  {
   "cell_type": "code",
   "execution_count": 7,
   "metadata": {
    "ExecuteTime": {
     "end_time": "2018-09-08T09:45:18.082805Z",
     "start_time": "2018-09-08T09:45:16.730905Z"
    }
   },
   "outputs": [
    {
     "data": {
      "text/html": [
       "<div>\n",
       "<style scoped>\n",
       "    .dataframe tbody tr th:only-of-type {\n",
       "        vertical-align: middle;\n",
       "    }\n",
       "\n",
       "    .dataframe tbody tr th {\n",
       "        vertical-align: top;\n",
       "    }\n",
       "\n",
       "    .dataframe thead th {\n",
       "        text-align: right;\n",
       "    }\n",
       "</style>\n",
       "<table border=\"1\" class=\"dataframe\">\n",
       "  <thead>\n",
       "    <tr style=\"text-align: right;\">\n",
       "      <th></th>\n",
       "      <th>publish_date</th>\n",
       "      <th>headline_text</th>\n",
       "    </tr>\n",
       "  </thead>\n",
       "  <tbody>\n",
       "    <tr>\n",
       "      <th>0</th>\n",
       "      <td>20030219</td>\n",
       "      <td>aba decides against community broadcasting lic...</td>\n",
       "    </tr>\n",
       "    <tr>\n",
       "      <th>1</th>\n",
       "      <td>20030219</td>\n",
       "      <td>act fire witnesses must be aware of defamation</td>\n",
       "    </tr>\n",
       "    <tr>\n",
       "      <th>2</th>\n",
       "      <td>20030219</td>\n",
       "      <td>a g calls for infrastructure protection summit</td>\n",
       "    </tr>\n",
       "    <tr>\n",
       "      <th>3</th>\n",
       "      <td>20030219</td>\n",
       "      <td>air nz staff in aust strike for pay rise</td>\n",
       "    </tr>\n",
       "    <tr>\n",
       "      <th>4</th>\n",
       "      <td>20030219</td>\n",
       "      <td>air nz strike to affect australian travellers</td>\n",
       "    </tr>\n",
       "  </tbody>\n",
       "</table>\n",
       "</div>"
      ],
      "text/plain": [
       "   publish_date                                      headline_text\n",
       "0      20030219  aba decides against community broadcasting lic...\n",
       "1      20030219     act fire witnesses must be aware of defamation\n",
       "2      20030219     a g calls for infrastructure protection summit\n",
       "3      20030219           air nz staff in aust strike for pay rise\n",
       "4      20030219      air nz strike to affect australian travellers"
      ]
     },
     "execution_count": 7,
     "metadata": {},
     "output_type": "execute_result"
    }
   ],
   "source": [
    "df = pd.read_csv(\"abcnews-date-text.csv\")\n",
    "df.head()"
   ]
  },
  {
   "cell_type": "code",
   "execution_count": 32,
   "metadata": {
    "ExecuteTime": {
     "end_time": "2018-09-08T09:59:55.118268Z",
     "start_time": "2018-09-08T09:59:54.374609Z"
    }
   },
   "outputs": [
    {
     "data": {
      "text/html": [
       "<div>\n",
       "<style scoped>\n",
       "    .dataframe tbody tr th:only-of-type {\n",
       "        vertical-align: middle;\n",
       "    }\n",
       "\n",
       "    .dataframe tbody tr th {\n",
       "        vertical-align: top;\n",
       "    }\n",
       "\n",
       "    .dataframe thead th {\n",
       "        text-align: right;\n",
       "    }\n",
       "</style>\n",
       "<table border=\"1\" class=\"dataframe\">\n",
       "  <thead>\n",
       "    <tr style=\"text-align: right;\">\n",
       "      <th></th>\n",
       "      <th>publish_date</th>\n",
       "      <th>headline_text</th>\n",
       "      <th>ymd</th>\n",
       "      <th>year</th>\n",
       "      <th>month</th>\n",
       "    </tr>\n",
       "  </thead>\n",
       "  <tbody>\n",
       "    <tr>\n",
       "      <th>0</th>\n",
       "      <td>20030219</td>\n",
       "      <td>aba decides against community broadcasting lic...</td>\n",
       "      <td>2003-02-19</td>\n",
       "      <td>2003</td>\n",
       "      <td>2</td>\n",
       "    </tr>\n",
       "    <tr>\n",
       "      <th>1</th>\n",
       "      <td>20030219</td>\n",
       "      <td>act fire witnesses must be aware of defamation</td>\n",
       "      <td>2003-02-19</td>\n",
       "      <td>2003</td>\n",
       "      <td>2</td>\n",
       "    </tr>\n",
       "    <tr>\n",
       "      <th>2</th>\n",
       "      <td>20030219</td>\n",
       "      <td>a g calls for infrastructure protection summit</td>\n",
       "      <td>2003-02-19</td>\n",
       "      <td>2003</td>\n",
       "      <td>2</td>\n",
       "    </tr>\n",
       "    <tr>\n",
       "      <th>3</th>\n",
       "      <td>20030219</td>\n",
       "      <td>air nz staff in aust strike for pay rise</td>\n",
       "      <td>2003-02-19</td>\n",
       "      <td>2003</td>\n",
       "      <td>2</td>\n",
       "    </tr>\n",
       "    <tr>\n",
       "      <th>4</th>\n",
       "      <td>20030219</td>\n",
       "      <td>air nz strike to affect australian travellers</td>\n",
       "      <td>2003-02-19</td>\n",
       "      <td>2003</td>\n",
       "      <td>2</td>\n",
       "    </tr>\n",
       "  </tbody>\n",
       "</table>\n",
       "</div>"
      ],
      "text/plain": [
       "   publish_date                                      headline_text        ymd  \\\n",
       "0      20030219  aba decides against community broadcasting lic... 2003-02-19   \n",
       "1      20030219     act fire witnesses must be aware of defamation 2003-02-19   \n",
       "2      20030219     a g calls for infrastructure protection summit 2003-02-19   \n",
       "3      20030219           air nz staff in aust strike for pay rise 2003-02-19   \n",
       "4      20030219      air nz strike to affect australian travellers 2003-02-19   \n",
       "\n",
       "   year  month  \n",
       "0  2003      2  \n",
       "1  2003      2  \n",
       "2  2003      2  \n",
       "3  2003      2  \n",
       "4  2003      2  "
      ]
     },
     "execution_count": 32,
     "metadata": {},
     "output_type": "execute_result"
    }
   ],
   "source": [
    "df[\"ymd\"] = pd.to_datetime(df.publish_date,format=\"%Y%m%d\")\n",
    "df[\"year\"] = df.ymd.dt.year\n",
    "df[\"month\"] = df.ymd.dt.month\n",
    "df.head()"
   ]
  },
  {
   "cell_type": "code",
   "execution_count": 38,
   "metadata": {
    "ExecuteTime": {
     "end_time": "2018-09-08T10:01:18.845937Z",
     "start_time": "2018-09-08T10:01:18.808007Z"
    }
   },
   "outputs": [
    {
     "data": {
      "text/plain": [
       "year\n",
       "2003    64003\n",
       "2004    72674\n",
       "2005    73124\n",
       "2006    66912\n",
       "2007    77192\n",
       "2008    80015\n",
       "2009    76454\n",
       "2010    74948\n",
       "2011    77829\n",
       "2012    89109\n",
       "2013    92337\n",
       "2014    82330\n",
       "2015    77941\n",
       "2016    54615\n",
       "2017    44182\n",
       "Name: year, dtype: int64"
      ]
     },
     "execution_count": 38,
     "metadata": {},
     "output_type": "execute_result"
    }
   ],
   "source": [
    "df.groupby(\"year\")[\"year\"].count()\n"
   ]
  },
  {
   "cell_type": "code",
   "execution_count": 59,
   "metadata": {
    "ExecuteTime": {
     "end_time": "2018-09-08T10:07:55.297285Z",
     "start_time": "2018-09-08T10:07:55.226091Z"
    }
   },
   "outputs": [
    {
     "name": "stderr",
     "output_type": "stream",
     "text": [
      "/Users/nkenta/anaconda3/lib/python3.6/site-packages/ipykernel_launcher.py:3: SettingWithCopyWarning: \n",
      "A value is trying to be set on a copy of a slice from a DataFrame.\n",
      "Try using .loc[row_indexer,col_indexer] = value instead\n",
      "\n",
      "See the caveats in the documentation: http://pandas.pydata.org/pandas-docs/stable/indexing.html#indexing-view-versus-copy\n",
      "  This is separate from the ipykernel package so we can avoid doing imports until\n"
     ]
    }
   ],
   "source": [
    "#data_text = df.headline_text\n",
    "data_text = df[[\"headline_text\"]]\n",
    "data_text[\"index\"] = data_text.index\n",
    "data_text\n",
    "\n",
    "documents = data_text"
   ]
  },
  {
   "cell_type": "code",
   "execution_count": 60,
   "metadata": {
    "ExecuteTime": {
     "end_time": "2018-09-08T10:07:57.266646Z",
     "start_time": "2018-09-08T10:07:57.249031Z"
    }
   },
   "outputs": [
    {
     "name": "stdout",
     "output_type": "stream",
     "text": [
      "(1103665, 2)\n"
     ]
    },
    {
     "data": {
      "text/html": [
       "<div>\n",
       "<style scoped>\n",
       "    .dataframe tbody tr th:only-of-type {\n",
       "        vertical-align: middle;\n",
       "    }\n",
       "\n",
       "    .dataframe tbody tr th {\n",
       "        vertical-align: top;\n",
       "    }\n",
       "\n",
       "    .dataframe thead th {\n",
       "        text-align: right;\n",
       "    }\n",
       "</style>\n",
       "<table border=\"1\" class=\"dataframe\">\n",
       "  <thead>\n",
       "    <tr style=\"text-align: right;\">\n",
       "      <th></th>\n",
       "      <th>headline_text</th>\n",
       "      <th>index</th>\n",
       "    </tr>\n",
       "  </thead>\n",
       "  <tbody>\n",
       "    <tr>\n",
       "      <th>0</th>\n",
       "      <td>aba decides against community broadcasting lic...</td>\n",
       "      <td>0</td>\n",
       "    </tr>\n",
       "    <tr>\n",
       "      <th>1</th>\n",
       "      <td>act fire witnesses must be aware of defamation</td>\n",
       "      <td>1</td>\n",
       "    </tr>\n",
       "    <tr>\n",
       "      <th>2</th>\n",
       "      <td>a g calls for infrastructure protection summit</td>\n",
       "      <td>2</td>\n",
       "    </tr>\n",
       "    <tr>\n",
       "      <th>3</th>\n",
       "      <td>air nz staff in aust strike for pay rise</td>\n",
       "      <td>3</td>\n",
       "    </tr>\n",
       "    <tr>\n",
       "      <th>4</th>\n",
       "      <td>air nz strike to affect australian travellers</td>\n",
       "      <td>4</td>\n",
       "    </tr>\n",
       "  </tbody>\n",
       "</table>\n",
       "</div>"
      ],
      "text/plain": [
       "                                       headline_text  index\n",
       "0  aba decides against community broadcasting lic...      0\n",
       "1     act fire witnesses must be aware of defamation      1\n",
       "2     a g calls for infrastructure protection summit      2\n",
       "3           air nz staff in aust strike for pay rise      3\n",
       "4      air nz strike to affect australian travellers      4"
      ]
     },
     "execution_count": 60,
     "metadata": {},
     "output_type": "execute_result"
    }
   ],
   "source": [
    "print(documents.shape)\n",
    "documents.head(5)"
   ]
  },
  {
   "cell_type": "code",
   "execution_count": null,
   "metadata": {},
   "outputs": [],
   "source": []
  },
  {
   "cell_type": "markdown",
   "metadata": {},
   "source": [
    "# Data Pre-processing\n",
    "\n",
    "* We will perform the following steps:\n",
    "    * <b>Tokenization</b>: Split the text into sentences and the sentences into words. Lowercase the words and remove punctuation.\n",
    "        * トークン化：単語に分ける\n",
    "    * Words that have fewer than 3 characters are removed.\n",
    "    * All <b>stopwords</b> are removed.\n",
    "    * Words are <b>lemmatized</b> — words in third person are changed to first person and verbs in past and future tenses are changed into present.\n",
    "        * 3人称を1人称に、過去形と未来形を現在形に\n",
    "    * Words are <b>stemmed </b>— words are reduced to their root form.\n",
    "        * 単語を原型に削る？"
   ]
  },
  {
   "cell_type": "code",
   "execution_count": 62,
   "metadata": {
    "ExecuteTime": {
     "end_time": "2018-09-08T10:13:15.036234Z",
     "start_time": "2018-09-08T10:13:09.510485Z"
    }
   },
   "outputs": [
    {
     "name": "stdout",
     "output_type": "stream",
     "text": [
      "[nltk_data] Downloading package wordnet to /Users/nkenta/nltk_data...\n",
      "[nltk_data]   Unzipping corpora/wordnet.zip.\n"
     ]
    },
    {
     "data": {
      "text/plain": [
       "True"
      ]
     },
     "execution_count": 62,
     "metadata": {},
     "output_type": "execute_result"
    }
   ],
   "source": [
    "import gensim\n",
    "from gensim.utils import simple_preprocess\n",
    "from gensim.parsing.preprocessing import STOPWORDS\n",
    "\n",
    "from nltk.stem import WordNetLemmatizer, SnowballStemmer\n",
    "from nltk.stem.porter import *\n",
    "\n",
    "import numpy as np\n",
    "\n",
    "np.random.seed(2018)\n",
    "\n",
    "import nltk\n",
    "nltk.download('wordnet')"
   ]
  },
  {
   "cell_type": "code",
   "execution_count": 72,
   "metadata": {
    "ExecuteTime": {
     "end_time": "2018-09-08T11:40:41.238207Z",
     "start_time": "2018-09-08T11:40:41.231598Z"
    }
   },
   "outputs": [
    {
     "name": "stdout",
     "output_type": "stream",
     "text": [
      "go\n"
     ]
    }
   ],
   "source": [
    "# 単語の現在形？を返す\n",
    "print(WordNetLemmatizer().lemmatize('went', pos='v'))\n",
    "#print(WordNetLemmatizer().lemmatize('stopped', pos='v'))"
   ]
  },
  {
   "cell_type": "code",
   "execution_count": 75,
   "metadata": {
    "ExecuteTime": {
     "end_time": "2018-09-08T11:42:25.129392Z",
     "start_time": "2018-09-08T11:42:25.100701Z"
    }
   },
   "outputs": [
    {
     "data": {
      "text/html": [
       "<div>\n",
       "<style scoped>\n",
       "    .dataframe tbody tr th:only-of-type {\n",
       "        vertical-align: middle;\n",
       "    }\n",
       "\n",
       "    .dataframe tbody tr th {\n",
       "        vertical-align: top;\n",
       "    }\n",
       "\n",
       "    .dataframe thead th {\n",
       "        text-align: right;\n",
       "    }\n",
       "</style>\n",
       "<table border=\"1\" class=\"dataframe\">\n",
       "  <thead>\n",
       "    <tr style=\"text-align: right;\">\n",
       "      <th></th>\n",
       "      <th>original word</th>\n",
       "      <th>stemmed</th>\n",
       "    </tr>\n",
       "  </thead>\n",
       "  <tbody>\n",
       "    <tr>\n",
       "      <th>0</th>\n",
       "      <td>goes</td>\n",
       "      <td>goe</td>\n",
       "    </tr>\n",
       "    <tr>\n",
       "      <th>1</th>\n",
       "      <td>caresses</td>\n",
       "      <td>caress</td>\n",
       "    </tr>\n",
       "    <tr>\n",
       "      <th>2</th>\n",
       "      <td>flies</td>\n",
       "      <td>fli</td>\n",
       "    </tr>\n",
       "    <tr>\n",
       "      <th>3</th>\n",
       "      <td>dies</td>\n",
       "      <td>die</td>\n",
       "    </tr>\n",
       "    <tr>\n",
       "      <th>4</th>\n",
       "      <td>mules</td>\n",
       "      <td>mule</td>\n",
       "    </tr>\n",
       "    <tr>\n",
       "      <th>5</th>\n",
       "      <td>denied</td>\n",
       "      <td>deni</td>\n",
       "    </tr>\n",
       "    <tr>\n",
       "      <th>6</th>\n",
       "      <td>died</td>\n",
       "      <td>die</td>\n",
       "    </tr>\n",
       "    <tr>\n",
       "      <th>7</th>\n",
       "      <td>agreed</td>\n",
       "      <td>agre</td>\n",
       "    </tr>\n",
       "    <tr>\n",
       "      <th>8</th>\n",
       "      <td>owned</td>\n",
       "      <td>own</td>\n",
       "    </tr>\n",
       "    <tr>\n",
       "      <th>9</th>\n",
       "      <td>humbled</td>\n",
       "      <td>humbl</td>\n",
       "    </tr>\n",
       "    <tr>\n",
       "      <th>10</th>\n",
       "      <td>sized</td>\n",
       "      <td>size</td>\n",
       "    </tr>\n",
       "    <tr>\n",
       "      <th>11</th>\n",
       "      <td>meeting</td>\n",
       "      <td>meet</td>\n",
       "    </tr>\n",
       "    <tr>\n",
       "      <th>12</th>\n",
       "      <td>stating</td>\n",
       "      <td>state</td>\n",
       "    </tr>\n",
       "    <tr>\n",
       "      <th>13</th>\n",
       "      <td>siezing</td>\n",
       "      <td>siez</td>\n",
       "    </tr>\n",
       "    <tr>\n",
       "      <th>14</th>\n",
       "      <td>itemization</td>\n",
       "      <td>item</td>\n",
       "    </tr>\n",
       "    <tr>\n",
       "      <th>15</th>\n",
       "      <td>sensational</td>\n",
       "      <td>sensat</td>\n",
       "    </tr>\n",
       "    <tr>\n",
       "      <th>16</th>\n",
       "      <td>traditional</td>\n",
       "      <td>tradit</td>\n",
       "    </tr>\n",
       "    <tr>\n",
       "      <th>17</th>\n",
       "      <td>reference</td>\n",
       "      <td>refer</td>\n",
       "    </tr>\n",
       "    <tr>\n",
       "      <th>18</th>\n",
       "      <td>colonizer</td>\n",
       "      <td>colon</td>\n",
       "    </tr>\n",
       "    <tr>\n",
       "      <th>19</th>\n",
       "      <td>plotted</td>\n",
       "      <td>plot</td>\n",
       "    </tr>\n",
       "  </tbody>\n",
       "</table>\n",
       "</div>"
      ],
      "text/plain": [
       "   original word stemmed\n",
       "0           goes     goe\n",
       "1       caresses  caress\n",
       "2          flies     fli\n",
       "3           dies     die\n",
       "4          mules    mule\n",
       "5         denied    deni\n",
       "6           died     die\n",
       "7         agreed    agre\n",
       "8          owned     own\n",
       "9        humbled   humbl\n",
       "10         sized    size\n",
       "11       meeting    meet\n",
       "12       stating   state\n",
       "13       siezing    siez\n",
       "14   itemization    item\n",
       "15   sensational  sensat\n",
       "16   traditional  tradit\n",
       "17     reference   refer\n",
       "18     colonizer   colon\n",
       "19       plotted    plot"
      ]
     },
     "execution_count": 75,
     "metadata": {},
     "output_type": "execute_result"
    }
   ],
   "source": [
    "# 1人称単数形・現在形を返す？\n",
    "stemmer = SnowballStemmer('english')\n",
    "original_words = [\"goes\",'caresses', 'flies', 'dies', 'mules', 'denied','died', 'agreed', 'owned', \n",
    "           'humbled', 'sized','meeting', 'stating', 'siezing', 'itemization','sensational', \n",
    "           'traditional', 'reference', 'colonizer','plotted']\n",
    "singles = [stemmer.stem(plural) for plural in original_words]\n",
    "pd.DataFrame(data = {'original word': original_words, 'stemmed': singles})"
   ]
  },
  {
   "cell_type": "markdown",
   "metadata": {},
   "source": [
    "## Function\n",
    "* Write a function to perform lemmatize and stem preprocessing steps on the data set."
   ]
  },
  {
   "cell_type": "code",
   "execution_count": 76,
   "metadata": {
    "ExecuteTime": {
     "end_time": "2018-09-08T11:43:48.860951Z",
     "start_time": "2018-09-08T11:43:48.855198Z"
    }
   },
   "outputs": [],
   "source": [
    "# 英語として扱ってテキストを渡して原型を返す\n",
    "def lemmatize_stemming(text):\n",
    "    return stemmer.stem(WordNetLemmatizer().lemmatize(text, pos='v'))\n"
   ]
  },
  {
   "cell_type": "code",
   "execution_count": 85,
   "metadata": {
    "ExecuteTime": {
     "end_time": "2018-09-08T11:53:31.657162Z",
     "start_time": "2018-09-08T11:53:31.649993Z"
    }
   },
   "outputs": [],
   "source": [
    "# gensim.parsing.preprocessing.STOPWARDS: \n",
    "# https://radimrehurek.com/gensim/parsing/preprocessing.html\n",
    "# stopward でなく、３文字以上の単語に対してlemmatize_stemmingを実行する\n",
    "def preprocess(text):\n",
    "    result = []\n",
    "    for token in gensim.utils.simple_preprocess(text):\n",
    "        if token not in gensim.parsing.preprocessing.STOPWORDS and len(token) > 3:\n",
    "            result.append(lemmatize_stemming(token))\n",
    "    return result"
   ]
  },
  {
   "cell_type": "code",
   "execution_count": 83,
   "metadata": {
    "ExecuteTime": {
     "end_time": "2018-09-08T11:48:45.580051Z",
     "start_time": "2018-09-08T11:48:45.568310Z"
    }
   },
   "outputs": [
    {
     "name": "stdout",
     "output_type": "stream",
     "text": [
      "original document: \n",
      "['aba', 'decides', 'against', 'community', 'broadcasting', 'licence']\n",
      "\n",
      "\n",
      " tokenized and lemmatized document: \n",
      "['decid', 'communiti', 'broadcast', 'licenc']\n"
     ]
    }
   ],
   "source": [
    "# Function test\n",
    "doc_sample = documents[documents['index'] == 0].values[0][0]\n",
    "print('original document: ')\n",
    "words = []\n",
    "\n",
    "for word in doc_sample.split(' '):\n",
    "    words.append(word)\n",
    "\n",
    "print(words)\n",
    "print('\\n\\n tokenized and lemmatized document: ')\n",
    "print(preprocess(doc_sample))"
   ]
  },
  {
   "cell_type": "markdown",
   "metadata": {},
   "source": [
    "## Pre-process for headline text"
   ]
  },
  {
   "cell_type": "code",
   "execution_count": 84,
   "metadata": {
    "ExecuteTime": {
     "end_time": "2018-09-08T11:51:18.803487Z",
     "start_time": "2018-09-08T11:49:00.360879Z"
    }
   },
   "outputs": [
    {
     "data": {
      "text/plain": [
       "0            [decid, communiti, broadcast, licenc]\n",
       "1                               [wit, awar, defam]\n",
       "2           [call, infrastructur, protect, summit]\n",
       "3                      [staff, aust, strike, rise]\n",
       "4             [strike, affect, australian, travel]\n",
       "5               [ambiti, olsson, win, tripl, jump]\n",
       "6           [antic, delight, record, break, barca]\n",
       "7    [aussi, qualifi, stosur, wast, memphi, match]\n",
       "8            [aust, address, secur, council, iraq]\n",
       "9                         [australia, lock, timet]\n",
       "Name: headline_text, dtype: object"
      ]
     },
     "execution_count": 84,
     "metadata": {},
     "output_type": "execute_result"
    }
   ],
   "source": [
    "processed_docs = documents['headline_text'].map(preprocess)\n",
    "processed_docs[:10]"
   ]
  },
  {
   "cell_type": "code",
   "execution_count": null,
   "metadata": {},
   "outputs": [],
   "source": []
  },
  {
   "cell_type": "markdown",
   "metadata": {},
   "source": [
    "## Bag of Words on the Data set\n",
    "* Create a dictionary from ‘processed_docs’ containing the number of times a word appears in the training set."
   ]
  },
  {
   "cell_type": "code",
   "execution_count": 86,
   "metadata": {
    "ExecuteTime": {
     "end_time": "2018-09-08T11:54:11.666669Z",
     "start_time": "2018-09-08T11:54:00.628942Z"
    }
   },
   "outputs": [],
   "source": [
    "dictionary = gensim.corpora.Dictionary(processed_docs)\n"
   ]
  },
  {
   "cell_type": "code",
   "execution_count": 87,
   "metadata": {
    "ExecuteTime": {
     "end_time": "2018-09-08T12:02:29.712713Z",
     "start_time": "2018-09-08T12:02:29.678960Z"
    }
   },
   "outputs": [
    {
     "name": "stdout",
     "output_type": "stream",
     "text": [
      "0 broadcast\n",
      "1 communiti\n",
      "2 decid\n",
      "3 licenc\n",
      "4 awar\n",
      "5 defam\n",
      "6 wit\n",
      "7 call\n",
      "8 infrastructur\n",
      "9 protect\n",
      "10 summit\n"
     ]
    }
   ],
   "source": [
    "count = 0\n",
    "for k, v in dictionary.iteritems():\n",
    "    print(k, v)\n",
    "    count += 1\n",
    "    if count > 10:\n",
    "        break"
   ]
  },
  {
   "cell_type": "raw",
   "metadata": {
    "ExecuteTime": {
     "end_time": "2018-09-08T12:44:34.593566Z",
     "start_time": "2018-09-08T12:44:25.024279Z"
    }
   },
   "source": [
    "for i,j in dictionary.items():\n",
    "    print(i,j)\n",
    "    \n",
    "#for i in dictionary.iterkeys():\n",
    "#for i in dictionary.itervalues():\n",
    "#    print(i)"
   ]
  },
  {
   "cell_type": "markdown",
   "metadata": {},
   "source": [
    "## Filter out\n",
    "* less than 15 documents (absolute number) or\n",
    "* more than 0.5 documents (fraction of total corpus size, not absolute number).\n",
    "* after the above two steps, keep only the first 100000 most frequent tokens."
   ]
  },
  {
   "cell_type": "code",
   "execution_count": 105,
   "metadata": {
    "ExecuteTime": {
     "end_time": "2018-09-08T12:53:23.408916Z",
     "start_time": "2018-09-08T12:53:23.372785Z"
    }
   },
   "outputs": [],
   "source": [
    "# 15未満の文書にしか含まれていないか\n",
    "# 50%以上の文書に含まれている\n",
    "# そのうち、上位100000\n",
    "dictionary.filter_extremes(no_below=15, no_above=0.5, keep_n=100000)"
   ]
  },
  {
   "cell_type": "markdown",
   "metadata": {},
   "source": [
    "## Gensim doc2bow\n",
    "For each document we create a dictionary reporting how many words and how many times those words appear.<br>\n",
    "Save this to ‘bow_corpus’, then check our selected document earlier.\n",
    "\n",
    "各文書に対してdictionaryに登場する単語が何回登場するのかcorpusを作成する"
   ]
  },
  {
   "cell_type": "code",
   "execution_count": 106,
   "metadata": {
    "ExecuteTime": {
     "end_time": "2018-09-08T12:54:18.130515Z",
     "start_time": "2018-09-08T12:54:10.703436Z"
    }
   },
   "outputs": [
    {
     "data": {
      "text/plain": [
       "[(76, 1), (112, 1), (483, 1), (4014, 1)]"
      ]
     },
     "execution_count": 106,
     "metadata": {},
     "output_type": "execute_result"
    }
   ],
   "source": [
    "bow_corpus = [dictionary.doc2bow(doc) for doc in processed_docs]\n",
    "bow_corpus[4310]"
   ]
  },
  {
   "cell_type": "code",
   "execution_count": 109,
   "metadata": {
    "ExecuteTime": {
     "end_time": "2018-09-08T12:55:59.907411Z",
     "start_time": "2018-09-08T12:55:59.901188Z"
    }
   },
   "outputs": [
    {
     "name": "stdout",
     "output_type": "stream",
     "text": [
      "WordID: 76 (\"bushfir\") appears 1 time.\n",
      "WordID: 112 (\"help\") appears 1 time.\n",
      "WordID: 483 (\"rain\") appears 1 time.\n",
      "WordID: 4014 (\"dampen\") appears 1 time.\n"
     ]
    }
   ],
   "source": [
    "# Preview\n",
    "bow_doc_4310 = bow_corpus[4310]\n",
    "\n",
    "for i in range(len(bow_doc_4310)):\n",
    "    print(\"WordID: {} (\\\"{}\\\") appears {} time.\".format(bow_doc_4310[i][0],dictionary[bow_doc_4310[i][0]], bow_doc_4310[i][1]))"
   ]
  },
  {
   "cell_type": "markdown",
   "metadata": {},
   "source": [
    "## TF-IDF\n",
    "Create tf-idf model object using models.<br>\n",
    "TfidfModel on <b>‘bow_corpus’</b> and save it to <b>‘tfidf’</b>, then apply transformation to the entire corpus and call it <b>‘corpus_tfidf’</b>.<br>\n",
    "Finally we preview TF-IDF scores for our first document.\n",
    "\n",
    "単語の重要度"
   ]
  },
  {
   "cell_type": "code",
   "execution_count": 110,
   "metadata": {
    "ExecuteTime": {
     "end_time": "2018-09-08T12:58:53.063623Z",
     "start_time": "2018-09-08T12:58:51.543050Z"
    }
   },
   "outputs": [
    {
     "name": "stdout",
     "output_type": "stream",
     "text": [
      "CPU times: user 1.5 s, sys: 10.9 ms, total: 1.51 s\n",
      "Wall time: 1.52 s\n"
     ]
    }
   ],
   "source": [
    "%%time\n",
    "from gensim import corpora, models\n",
    "\n",
    "# tfidfのモデル作成\n",
    "tfidf = models.TfidfModel(bow_corpus)\n",
    "# モデルを適用\n",
    "corpus_tfidf = tfidf[bow_corpus]\n"
   ]
  },
  {
   "cell_type": "code",
   "execution_count": 111,
   "metadata": {
    "ExecuteTime": {
     "end_time": "2018-09-08T12:58:56.671811Z",
     "start_time": "2018-09-08T12:58:56.663210Z"
    }
   },
   "outputs": [
    {
     "name": "stdout",
     "output_type": "stream",
     "text": [
      "[(0, 0.5892908644709983),\n",
      " (1, 0.38929657403503015),\n",
      " (2, 0.4964985198530063),\n",
      " (3, 0.5046520328695662)]\n"
     ]
    }
   ],
   "source": [
    "from pprint import pprint\n",
    "\n",
    "for doc in corpus_tfidf:\n",
    "    pprint(doc)\n",
    "    break"
   ]
  },
  {
   "cell_type": "code",
   "execution_count": 129,
   "metadata": {
    "ExecuteTime": {
     "end_time": "2018-09-08T13:17:40.747819Z",
     "start_time": "2018-09-08T13:17:40.738969Z"
    }
   },
   "outputs": [
    {
     "name": "stdout",
     "output_type": "stream",
     "text": [
      "broadcast 0.5892908644709983\n",
      "communiti 0.38929657403503015\n",
      "decid 0.4964985198530063\n",
      "licenc 0.5046520328695662\n",
      "awar 0.5950795791857478\n",
      "defam 0.6246275884087716\n",
      "wit 0.505688313326258\n",
      "call 0.38320252667383414\n",
      "infrastructur 0.5606508321974041\n",
      "protect 0.4720788907709393\n",
      "summit 0.5621102994925704\n",
      "aust 0.5300526285166762\n",
      "rise 0.4377880311258504\n",
      "staff 0.5401297868919481\n",
      "strike 0.4854334806310464\n",
      "strike 0.4584769612815404\n",
      "affect 0.5646034864949163\n",
      "australian 0.38836259338853274\n",
      "travel 0.5658588826451018\n",
      "ambiti 0.6495723838017874\n",
      "jump 0.46245282544959365\n",
      "tripl 0.5028027888963171\n",
      "win 0.3337401053422206\n",
      "antic 0.5877285037583232\n",
      "barca 0.47096243583753894\n",
      "break 0.3033532367965105\n",
      "delight 0.501635544779243\n",
      "record 0.2985099392634807\n",
      "aussi 0.3045030692802473\n",
      "match 0.35033773871490465\n",
      "memphi 0.5485497012260989\n",
      "qualifi 0.4216219494437859\n",
      "stosur 0.41697729972843783\n",
      "wast 0.3633172693035605\n",
      "aust 0.4754388260184387\n",
      "address 0.5401591529592829\n",
      "council 0.3346024095976401\n",
      "iraq 0.4288401315479552\n",
      "secur 0.4316519214064783\n",
      "australia 0.3584800919622202\n",
      "lock 0.5954869899348006\n",
      "timet 0.7189487245173668\n"
     ]
    }
   ],
   "source": [
    "for doc in corpus_tfidf[0:10]:\n",
    "    text_tfidf=[]\n",
    "#    print(doc)\n",
    "    for i in doc:\n",
    "        print(dictionary[i[0]], i[1])\n"
   ]
  },
  {
   "cell_type": "code",
   "execution_count": null,
   "metadata": {},
   "outputs": [],
   "source": []
  },
  {
   "cell_type": "markdown",
   "metadata": {},
   "source": [
    "# Prediction"
   ]
  },
  {
   "cell_type": "markdown",
   "metadata": {},
   "source": [
    "## Running LDA using Bag of Words\n",
    "\n",
    "Train our lda model using gensim.models.LdaMulticore and save it to ‘lda_model’"
   ]
  },
  {
   "cell_type": "code",
   "execution_count": 130,
   "metadata": {
    "ExecuteTime": {
     "end_time": "2018-09-08T13:23:35.057910Z",
     "start_time": "2018-09-08T13:20:23.348042Z"
    }
   },
   "outputs": [],
   "source": [
    "#lda_model = gensim.models.LdaMulticore(bow_corpus, num_topics=10, id2word=dictionary, passes=2, workers=2)\n",
    "lda_model = gensim.models.LdaMulticore(bow_corpus, num_topics=10, id2word=dictionary, passes=2)\n"
   ]
  },
  {
   "cell_type": "markdown",
   "metadata": {},
   "source": [
    "For each topic, we will explore the words occuring in that topic and its relative weight."
   ]
  },
  {
   "cell_type": "code",
   "execution_count": 131,
   "metadata": {
    "ExecuteTime": {
     "end_time": "2018-09-08T13:26:21.702829Z",
     "start_time": "2018-09-08T13:26:21.693635Z"
    }
   },
   "outputs": [
    {
     "name": "stdout",
     "output_type": "stream",
     "text": [
      "Topic: 0 \n",
      "Words: 0.026*\"elect\" + 0.018*\"say\" + 0.015*\"tasmanian\" + 0.014*\"labor\" + 0.013*\"deal\" + 0.012*\"china\" + 0.012*\"turnbul\" + 0.011*\"talk\" + 0.011*\"minist\" + 0.010*\"vote\"\n",
      "Topic: 1 \n",
      "Words: 0.018*\"plan\" + 0.017*\"coast\" + 0.015*\"govern\" + 0.015*\"chang\" + 0.014*\"health\" + 0.014*\"state\" + 0.014*\"council\" + 0.013*\"fund\" + 0.012*\"water\" + 0.012*\"help\"\n",
      "Topic: 2 \n",
      "Words: 0.021*\"countri\" + 0.021*\"market\" + 0.018*\"hour\" + 0.016*\"rise\" + 0.014*\"price\" + 0.014*\"share\" + 0.013*\"hous\" + 0.011*\"victoria\" + 0.011*\"bank\" + 0.011*\"canberra\"\n",
      "Topic: 3 \n",
      "Words: 0.061*\"polic\" + 0.024*\"interview\" + 0.023*\"crash\" + 0.018*\"miss\" + 0.017*\"shoot\" + 0.015*\"arrest\" + 0.014*\"investig\" + 0.013*\"driver\" + 0.011*\"search\" + 0.011*\"dead\"\n",
      "Topic: 4 \n",
      "Words: 0.031*\"charg\" + 0.028*\"court\" + 0.022*\"murder\" + 0.019*\"face\" + 0.019*\"woman\" + 0.018*\"sydney\" + 0.016*\"die\" + 0.015*\"alleg\" + 0.015*\"accus\" + 0.014*\"jail\"\n",
      "Topic: 5 \n",
      "Words: 0.022*\"world\" + 0.018*\"australia\" + 0.017*\"open\" + 0.016*\"melbourn\" + 0.015*\"final\" + 0.010*\"donald\" + 0.010*\"leagu\" + 0.009*\"beat\" + 0.009*\"sydney\" + 0.008*\"protest\"\n",
      "Topic: 6 \n",
      "Words: 0.025*\"south\" + 0.024*\"kill\" + 0.021*\"north\" + 0.016*\"west\" + 0.014*\"australia\" + 0.013*\"fall\" + 0.012*\"attack\" + 0.010*\"australian\" + 0.009*\"forc\" + 0.009*\"korea\"\n",
      "Topic: 7 \n",
      "Words: 0.017*\"live\" + 0.015*\"tasmania\" + 0.014*\"power\" + 0.014*\"farmer\" + 0.013*\"busi\" + 0.012*\"industri\" + 0.009*\"research\" + 0.009*\"look\" + 0.009*\"program\" + 0.008*\"port\"\n",
      "Topic: 8 \n",
      "Words: 0.028*\"trump\" + 0.027*\"queensland\" + 0.025*\"australian\" + 0.017*\"hospit\" + 0.015*\"year\" + 0.013*\"leav\" + 0.010*\"say\" + 0.010*\"royal\" + 0.010*\"show\" + 0.010*\"game\"\n",
      "Topic: 9 \n",
      "Words: 0.023*\"rural\" + 0.021*\"test\" + 0.015*\"break\" + 0.011*\"nation\" + 0.010*\"hill\" + 0.010*\"premier\" + 0.010*\"union\" + 0.009*\"say\" + 0.009*\"job\" + 0.009*\"news\"\n"
     ]
    }
   ],
   "source": [
    "for idx, topic in lda_model.print_topics(-1):\n",
    "    print('Topic: {} \\nWords: {}'.format(idx, topic))"
   ]
  },
  {
   "cell_type": "code",
   "execution_count": null,
   "metadata": {},
   "outputs": [],
   "source": []
  },
  {
   "cell_type": "markdown",
   "metadata": {},
   "source": [
    "## Running LDA using TF-IDF"
   ]
  },
  {
   "cell_type": "code",
   "execution_count": 132,
   "metadata": {
    "ExecuteTime": {
     "end_time": "2018-09-08T13:30:40.201181Z",
     "start_time": "2018-09-08T13:27:08.276635Z"
    }
   },
   "outputs": [],
   "source": [
    "lda_model_tfidf = gensim.models.LdaMulticore(corpus_tfidf, num_topics=10, id2word=dictionary, passes=2)\n"
   ]
  },
  {
   "cell_type": "code",
   "execution_count": 136,
   "metadata": {
    "ExecuteTime": {
     "end_time": "2018-09-08T13:32:03.514587Z",
     "start_time": "2018-09-08T13:32:03.490281Z"
    }
   },
   "outputs": [
    {
     "name": "stdout",
     "output_type": "stream",
     "text": [
      "Topic: 0 \n",
      "Word: 0.019*\"trump\" + 0.007*\"fund\" + 0.006*\"marriag\" + 0.006*\"budget\" + 0.006*\"program\" + 0.005*\"job\" + 0.005*\"friday\" + 0.005*\"sexual\" + 0.005*\"care\" + 0.004*\"cut\"\n",
      "Topic: 1 \n",
      "Word: 0.026*\"countri\" + 0.023*\"hour\" + 0.010*\"royal\" + 0.008*\"commiss\" + 0.008*\"juli\" + 0.007*\"street\" + 0.007*\"wall\" + 0.007*\"monday\" + 0.006*\"andrew\" + 0.005*\"blog\"\n",
      "Topic: 2 \n",
      "Word: 0.010*\"market\" + 0.008*\"elect\" + 0.007*\"share\" + 0.006*\"price\" + 0.005*\"australian\" + 0.005*\"say\" + 0.005*\"east\" + 0.005*\"south\" + 0.005*\"islam\" + 0.005*\"cattl\"\n",
      "Topic: 3 \n",
      "Word: 0.013*\"govern\" + 0.008*\"malcolm\" + 0.006*\"anim\" + 0.005*\"live\" + 0.005*\"updat\" + 0.005*\"human\" + 0.005*\"grow\" + 0.005*\"busi\" + 0.005*\"polit\" + 0.005*\"billion\"\n",
      "Topic: 4 \n",
      "Word: 0.010*\"world\" + 0.010*\"australia\" + 0.009*\"drum\" + 0.009*\"leagu\" + 0.007*\"final\" + 0.006*\"open\" + 0.006*\"sport\" + 0.006*\"christma\" + 0.006*\"win\" + 0.005*\"rugbi\"\n",
      "Topic: 5 \n",
      "Word: 0.021*\"rural\" + 0.015*\"news\" + 0.012*\"podcast\" + 0.009*\"grandstand\" + 0.008*\"die\" + 0.007*\"nation\" + 0.007*\"crash\" + 0.006*\"decemb\" + 0.006*\"rescu\" + 0.006*\"truck\"\n",
      "Topic: 6 \n",
      "Word: 0.012*\"donald\" + 0.007*\"michael\" + 0.007*\"climat\" + 0.007*\"octob\" + 0.006*\"peter\" + 0.006*\"stori\" + 0.006*\"asylum\" + 0.005*\"jam\" + 0.005*\"seeker\" + 0.005*\"social\"\n",
      "Topic: 7 \n",
      "Word: 0.017*\"charg\" + 0.017*\"polic\" + 0.015*\"murder\" + 0.012*\"court\" + 0.011*\"woman\" + 0.010*\"interview\" + 0.010*\"alleg\" + 0.009*\"turnbul\" + 0.009*\"jail\" + 0.009*\"death\"\n",
      "Topic: 8 \n",
      "Word: 0.008*\"weather\" + 0.007*\"hill\" + 0.007*\"queensland\" + 0.007*\"energi\" + 0.007*\"farm\" + 0.006*\"mental\" + 0.006*\"domest\" + 0.006*\"northern\" + 0.005*\"june\" + 0.005*\"rain\"\n",
      "Topic: 9 \n",
      "Word: 0.008*\"dollar\" + 0.008*\"kill\" + 0.006*\"thursday\" + 0.006*\"australian\" + 0.006*\"inquest\" + 0.006*\"bomb\" + 0.005*\"know\" + 0.005*\"indonesia\" + 0.005*\"attack\" + 0.004*\"syrian\"\n"
     ]
    }
   ],
   "source": [
    "for idx, topic in lda_model_tfidf.print_topics(-1):\n",
    "    print('Topic: {} \\nWord: {}'.format(idx, topic))"
   ]
  },
  {
   "cell_type": "code",
   "execution_count": null,
   "metadata": {},
   "outputs": [],
   "source": []
  },
  {
   "cell_type": "code",
   "execution_count": null,
   "metadata": {},
   "outputs": [],
   "source": []
  },
  {
   "cell_type": "markdown",
   "metadata": {},
   "source": [
    "# Performance evaluation by classifying sample document\n",
    "## using LDA Bag of Words model\n",
    "\n",
    "We will check where our test document would be classified."
   ]
  },
  {
   "cell_type": "code",
   "execution_count": 151,
   "metadata": {
    "ExecuteTime": {
     "end_time": "2018-09-08T13:37:32.577364Z",
     "start_time": "2018-09-08T13:37:32.570015Z"
    }
   },
   "outputs": [
    {
     "name": "stdout",
     "output_type": "stream",
     "text": [
      "rain helps dampen bushfires\n",
      "['rain', 'help', 'dampen', 'bushfir']\n"
     ]
    }
   ],
   "source": [
    "print(documents.iloc[4310,0])\n",
    "print(processed_docs[4310])\n"
   ]
  },
  {
   "cell_type": "code",
   "execution_count": 152,
   "metadata": {
    "ExecuteTime": {
     "end_time": "2018-09-08T13:38:54.109340Z",
     "start_time": "2018-09-08T13:38:54.090164Z"
    }
   },
   "outputs": [
    {
     "name": "stdout",
     "output_type": "stream",
     "text": [
      "\n",
      "Score: 0.4199979305267334\t \n",
      "Topic: 0.025*\"south\" + 0.024*\"kill\" + 0.021*\"north\" + 0.016*\"west\" + 0.014*\"australia\" + 0.013*\"fall\" + 0.012*\"attack\" + 0.010*\"australian\" + 0.009*\"forc\" + 0.009*\"korea\"\n",
      "\n",
      "Score: 0.2199999988079071\t \n",
      "Topic: 0.022*\"world\" + 0.018*\"australia\" + 0.017*\"open\" + 0.016*\"melbourn\" + 0.015*\"final\" + 0.010*\"donald\" + 0.010*\"leagu\" + 0.009*\"beat\" + 0.009*\"sydney\" + 0.008*\"protest\"\n",
      "\n",
      "Score: 0.21999728679656982\t \n",
      "Topic: 0.018*\"plan\" + 0.017*\"coast\" + 0.015*\"govern\" + 0.015*\"chang\" + 0.014*\"health\" + 0.014*\"state\" + 0.014*\"council\" + 0.013*\"fund\" + 0.012*\"water\" + 0.012*\"help\"\n",
      "\n",
      "Score: 0.0200022142380476\t \n",
      "Topic: 0.021*\"countri\" + 0.021*\"market\" + 0.018*\"hour\" + 0.016*\"rise\" + 0.014*\"price\" + 0.014*\"share\" + 0.013*\"hous\" + 0.011*\"victoria\" + 0.011*\"bank\" + 0.011*\"canberra\"\n",
      "\n",
      "Score: 0.02000158652663231\t \n",
      "Topic: 0.017*\"live\" + 0.015*\"tasmania\" + 0.014*\"power\" + 0.014*\"farmer\" + 0.013*\"busi\" + 0.012*\"industri\" + 0.009*\"research\" + 0.009*\"look\" + 0.009*\"program\" + 0.008*\"port\"\n",
      "\n",
      "Score: 0.020000940188765526\t \n",
      "Topic: 0.061*\"polic\" + 0.024*\"interview\" + 0.023*\"crash\" + 0.018*\"miss\" + 0.017*\"shoot\" + 0.015*\"arrest\" + 0.014*\"investig\" + 0.013*\"driver\" + 0.011*\"search\" + 0.011*\"dead\"\n",
      "\n",
      "Score: 0.019999999552965164\t \n",
      "Topic: 0.026*\"elect\" + 0.018*\"say\" + 0.015*\"tasmanian\" + 0.014*\"labor\" + 0.013*\"deal\" + 0.012*\"china\" + 0.012*\"turnbul\" + 0.011*\"talk\" + 0.011*\"minist\" + 0.010*\"vote\"\n",
      "\n",
      "Score: 0.019999999552965164\t \n",
      "Topic: 0.031*\"charg\" + 0.028*\"court\" + 0.022*\"murder\" + 0.019*\"face\" + 0.019*\"woman\" + 0.018*\"sydney\" + 0.016*\"die\" + 0.015*\"alleg\" + 0.015*\"accus\" + 0.014*\"jail\"\n",
      "\n",
      "Score: 0.019999999552965164\t \n",
      "Topic: 0.028*\"trump\" + 0.027*\"queensland\" + 0.025*\"australian\" + 0.017*\"hospit\" + 0.015*\"year\" + 0.013*\"leav\" + 0.010*\"say\" + 0.010*\"royal\" + 0.010*\"show\" + 0.010*\"game\"\n",
      "\n",
      "Score: 0.019999999552965164\t \n",
      "Topic: 0.023*\"rural\" + 0.021*\"test\" + 0.015*\"break\" + 0.011*\"nation\" + 0.010*\"hill\" + 0.010*\"premier\" + 0.010*\"union\" + 0.009*\"say\" + 0.009*\"job\" + 0.009*\"news\"\n"
     ]
    }
   ],
   "source": [
    "# 各トピックの確率とその単語分布\n",
    "# lda_model[bow_corpus[4310]]で各トピックに対する所属確率を出力\n",
    "for index, score in sorted(lda_model[bow_corpus[4310]], key=lambda tup: -1*tup[1]):\n",
    "    print(\"\\nScore: {}\\t \\nTopic: {}\".format(score, lda_model.print_topic(index, 10)))"
   ]
  },
  {
   "cell_type": "markdown",
   "metadata": {},
   "source": [
    "## using LDA TF-IDF model."
   ]
  },
  {
   "cell_type": "code",
   "execution_count": 153,
   "metadata": {
    "ExecuteTime": {
     "end_time": "2018-09-08T13:39:52.037102Z",
     "start_time": "2018-09-08T13:39:52.021575Z"
    }
   },
   "outputs": [
    {
     "name": "stdout",
     "output_type": "stream",
     "text": [
      "\n",
      "Score: 0.5796761512756348\t \n",
      "Topic: 0.008*\"weather\" + 0.007*\"hill\" + 0.007*\"queensland\" + 0.007*\"energi\" + 0.007*\"farm\" + 0.006*\"mental\" + 0.006*\"domest\" + 0.006*\"northern\" + 0.005*\"june\" + 0.005*\"rain\"\n",
      "\n",
      "Score: 0.26031216979026794\t \n",
      "Topic: 0.010*\"market\" + 0.008*\"elect\" + 0.007*\"share\" + 0.006*\"price\" + 0.005*\"australian\" + 0.005*\"say\" + 0.005*\"east\" + 0.005*\"south\" + 0.005*\"islam\" + 0.005*\"cattl\"\n",
      "\n",
      "Score: 0.020002778619527817\t \n",
      "Topic: 0.012*\"donald\" + 0.007*\"michael\" + 0.007*\"climat\" + 0.007*\"octob\" + 0.006*\"peter\" + 0.006*\"stori\" + 0.006*\"asylum\" + 0.005*\"jam\" + 0.005*\"seeker\" + 0.005*\"social\"\n",
      "\n",
      "Score: 0.02000211738049984\t \n",
      "Topic: 0.019*\"trump\" + 0.007*\"fund\" + 0.006*\"marriag\" + 0.006*\"budget\" + 0.006*\"program\" + 0.005*\"job\" + 0.005*\"friday\" + 0.005*\"sexual\" + 0.005*\"care\" + 0.004*\"cut\"\n",
      "\n",
      "Score: 0.020001566037535667\t \n",
      "Topic: 0.017*\"charg\" + 0.017*\"polic\" + 0.015*\"murder\" + 0.012*\"court\" + 0.011*\"woman\" + 0.010*\"interview\" + 0.010*\"alleg\" + 0.009*\"turnbul\" + 0.009*\"jail\" + 0.009*\"death\"\n",
      "\n",
      "Score: 0.020001504570245743\t \n",
      "Topic: 0.008*\"dollar\" + 0.008*\"kill\" + 0.006*\"thursday\" + 0.006*\"australian\" + 0.006*\"inquest\" + 0.006*\"bomb\" + 0.005*\"know\" + 0.005*\"indonesia\" + 0.005*\"attack\" + 0.004*\"syrian\"\n",
      "\n",
      "Score: 0.02000141143798828\t \n",
      "Topic: 0.021*\"rural\" + 0.015*\"news\" + 0.012*\"podcast\" + 0.009*\"grandstand\" + 0.008*\"die\" + 0.007*\"nation\" + 0.007*\"crash\" + 0.006*\"decemb\" + 0.006*\"rescu\" + 0.006*\"truck\"\n",
      "\n",
      "Score: 0.020001238211989403\t \n",
      "Topic: 0.013*\"govern\" + 0.008*\"malcolm\" + 0.006*\"anim\" + 0.005*\"live\" + 0.005*\"updat\" + 0.005*\"human\" + 0.005*\"grow\" + 0.005*\"busi\" + 0.005*\"polit\" + 0.005*\"billion\"\n",
      "\n",
      "Score: 0.020000765100121498\t \n",
      "Topic: 0.026*\"countri\" + 0.023*\"hour\" + 0.010*\"royal\" + 0.008*\"commiss\" + 0.008*\"juli\" + 0.007*\"street\" + 0.007*\"wall\" + 0.007*\"monday\" + 0.006*\"andrew\" + 0.005*\"blog\"\n",
      "\n",
      "Score: 0.020000334829092026\t \n",
      "Topic: 0.010*\"world\" + 0.010*\"australia\" + 0.009*\"drum\" + 0.009*\"leagu\" + 0.007*\"final\" + 0.006*\"open\" + 0.006*\"sport\" + 0.006*\"christma\" + 0.006*\"win\" + 0.005*\"rugbi\"\n"
     ]
    }
   ],
   "source": [
    "for index, score in sorted(lda_model_tfidf[bow_corpus[4310]], key=lambda tup: -1*tup[1]):\n",
    "    print(\"\\nScore: {}\\t \\nTopic: {}\".format(score, lda_model_tfidf.print_topic(index, 10)))"
   ]
  },
  {
   "cell_type": "markdown",
   "metadata": {},
   "source": [
    "## Testing model on unseen document"
   ]
  },
  {
   "cell_type": "code",
   "execution_count": 154,
   "metadata": {
    "ExecuteTime": {
     "end_time": "2018-09-08T13:40:40.437929Z",
     "start_time": "2018-09-08T13:40:40.434556Z"
    }
   },
   "outputs": [],
   "source": [
    "unseen_document = 'How a Pentagon deal became an identity crisis for Google'\n"
   ]
  },
  {
   "cell_type": "code",
   "execution_count": 155,
   "metadata": {
    "ExecuteTime": {
     "end_time": "2018-09-08T13:40:45.993367Z",
     "start_time": "2018-09-08T13:40:45.989357Z"
    }
   },
   "outputs": [],
   "source": [
    "bow_vector = dictionary.doc2bow(preprocess(unseen_document))\n",
    "\n"
   ]
  },
  {
   "cell_type": "code",
   "execution_count": 156,
   "metadata": {
    "ExecuteTime": {
     "end_time": "2018-09-08T13:40:51.940778Z",
     "start_time": "2018-09-08T13:40:51.924287Z"
    }
   },
   "outputs": [
    {
     "name": "stdout",
     "output_type": "stream",
     "text": [
      "Score: 0.3499734699726105\t Topic: 0.026*\"elect\" + 0.018*\"say\" + 0.015*\"tasmanian\" + 0.014*\"labor\" + 0.013*\"deal\"\n",
      "Score: 0.18335570394992828\t Topic: 0.028*\"trump\" + 0.027*\"queensland\" + 0.025*\"australian\" + 0.017*\"hospit\" + 0.015*\"year\"\n",
      "Score: 0.1833333820104599\t Topic: 0.021*\"countri\" + 0.021*\"market\" + 0.018*\"hour\" + 0.016*\"rise\" + 0.014*\"price\"\n",
      "Score: 0.1833333522081375\t Topic: 0.061*\"polic\" + 0.024*\"interview\" + 0.023*\"crash\" + 0.018*\"miss\" + 0.017*\"shoot\"\n",
      "Score: 0.016670767217874527\t Topic: 0.018*\"plan\" + 0.017*\"coast\" + 0.015*\"govern\" + 0.015*\"chang\" + 0.014*\"health\"\n",
      "Score: 0.01666666753590107\t Topic: 0.031*\"charg\" + 0.028*\"court\" + 0.022*\"murder\" + 0.019*\"face\" + 0.019*\"woman\"\n",
      "Score: 0.01666666753590107\t Topic: 0.022*\"world\" + 0.018*\"australia\" + 0.017*\"open\" + 0.016*\"melbourn\" + 0.015*\"final\"\n",
      "Score: 0.01666666753590107\t Topic: 0.025*\"south\" + 0.024*\"kill\" + 0.021*\"north\" + 0.016*\"west\" + 0.014*\"australia\"\n",
      "Score: 0.01666666753590107\t Topic: 0.017*\"live\" + 0.015*\"tasmania\" + 0.014*\"power\" + 0.014*\"farmer\" + 0.013*\"busi\"\n",
      "Score: 0.01666666753590107\t Topic: 0.023*\"rural\" + 0.021*\"test\" + 0.015*\"break\" + 0.011*\"nation\" + 0.010*\"hill\"\n"
     ]
    }
   ],
   "source": [
    "for index, score in sorted(lda_model[bow_vector], key=lambda tup: -1*tup[1]):\n",
    "    print(\"Score: {}\\t Topic: {}\".format(score, lda_model.print_topic(index, 5)))"
   ]
  },
  {
   "cell_type": "code",
   "execution_count": null,
   "metadata": {},
   "outputs": [],
   "source": []
  }
 ],
 "metadata": {
  "kernelspec": {
   "display_name": "Python 3",
   "language": "python",
   "name": "python3"
  },
  "language_info": {
   "codemirror_mode": {
    "name": "ipython",
    "version": 3
   },
   "file_extension": ".py",
   "mimetype": "text/x-python",
   "name": "python",
   "nbconvert_exporter": "python",
   "pygments_lexer": "ipython3",
   "version": "3.6.6"
  },
  "toc": {
   "colors": {
    "hover_highlight": "#DAA520",
    "running_highlight": "#FF0000",
    "selected_highlight": "#FFD700"
   },
   "moveMenuLeft": true,
   "nav_menu": {
    "height": "289.767px",
    "width": "251.267px"
   },
   "navigate_menu": true,
   "number_sections": true,
   "sideBar": true,
   "threshold": "4",
   "toc_cell": true,
   "toc_section_display": "block",
   "toc_window_display": true,
   "widenNotebook": false
  },
  "varInspector": {
   "cols": {
    "lenName": 16,
    "lenType": 16,
    "lenVar": 40
   },
   "kernels_config": {
    "python": {
     "delete_cmd_postfix": "",
     "delete_cmd_prefix": "del ",
     "library": "var_list.py",
     "varRefreshCmd": "print(var_dic_list())"
    },
    "r": {
     "delete_cmd_postfix": ") ",
     "delete_cmd_prefix": "rm(",
     "library": "var_list.r",
     "varRefreshCmd": "cat(var_dic_list()) "
    }
   },
   "types_to_exclude": [
    "module",
    "function",
    "builtin_function_or_method",
    "instance",
    "_Feature"
   ],
   "window_display": false
  }
 },
 "nbformat": 4,
 "nbformat_minor": 2
}
